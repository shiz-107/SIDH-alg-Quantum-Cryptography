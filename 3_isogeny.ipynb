{
  "nbformat": 4,
  "nbformat_minor": 0,
  "metadata": {
    "colab": {
      "provenance": [],
      "authorship_tag": "ABX9TyO6fZ09+Ygk0GoAnue1/nW3",
      "include_colab_link": true
    },
    "kernelspec": {
      "name": "python3",
      "display_name": "Python 3"
    },
    "language_info": {
      "name": "python"
    }
  },
  "cells": [
    {
      "cell_type": "markdown",
      "metadata": {
        "id": "view-in-github",
        "colab_type": "text"
      },
      "source": [
        "<a href=\"https://colab.research.google.com/github/shiz-107/SIDH-alg-Quantum-Cryptography/blob/main/3_isogeny.ipynb\" target=\"_parent\"><img src=\"https://colab.research.google.com/assets/colab-badge.svg\" alt=\"Open In Colab\"/></a>"
      ]
    },
    {
      "cell_type": "code",
      "execution_count": null,
      "metadata": {
        "colab": {
          "base_uri": "https://localhost:8080/"
        },
        "id": "B-KW505X-Qo4",
        "outputId": "87ff3a61-06e8-47fa-8771-895b1be5145d"
      },
      "outputs": [
        {
          "output_type": "stream",
          "name": "stdout",
          "text": [
            "(227+40j)\n"
          ]
        }
      ],
      "source": [
        "# 3-isogeny\n",
        "j=complex (0,1)\n",
        "b=321*j+56\n",
        "p= 431\n",
        "def A(x):\n",
        "   m= (x*(b*x-1)**2)\n",
        "   real_part_of_m =m.real%p\n",
        "   imag_part_of_m=m.imag%p\n",
        "   m_prime = real_part_of_m + imag_part_of_m*j\n",
        "\n",
        "   n=(x-b)**2\n",
        "   real_part_of_n= n.real%p\n",
        "   imag_part_of_n= n.imag%p\n",
        "   n_prime = real_part_of_n +imag_part_of_n*j\n",
        "\n",
        "   n_double_prime= ((real_part_of_n)**2 + (imag_part_of_n)**2)%p\n",
        "\n",
        "   # inverse of modulus of n-c % p\n",
        "   def find_inverse(element, mod):\n",
        "    \"\"\"\n",
        "       Finds the inverse of an element in the finite field Z_mod.\n",
        "       Returns the inverse if it exists, otherwise returns None.\n",
        "       \"\"\"\n",
        "    if element == 0:\n",
        "           return None\n",
        "\n",
        "       # Apply the extended Euclidean algorithm\n",
        "    a, b = mod, element\n",
        "    x, y = 0, 1\n",
        "    while b != 0:\n",
        "           quotient = a // b\n",
        "           a, b = b, a - quotient * b\n",
        "           x, y = y, x - quotient * y\n",
        "\n",
        "       # Ensure the inverse is positive\n",
        "    inverse = x % mod\n",
        "    if inverse < 0:\n",
        "          inverse += mod\n",
        "\n",
        "    return inverse\n",
        "\n",
        "   # Test the function\n",
        "   element = n_double_prime\n",
        "   mod = 431\n",
        "   inverse = find_inverse(element, mod)\n",
        "\n",
        "   n_triple_prime= (real_part_of_n + (p-imag_part_of_n)*j)*inverse\n",
        "   real_part_of_n_triple_prime = n_triple_prime.real%p\n",
        "   imag_part_of_n_triple_prime= n_triple_prime.imag%p\n",
        "   n_forth_prime=real_part_of_n_triple_prime + imag_part_of_n_triple_prime*j\n",
        "\n",
        "   s = m_prime*n_forth_prime\n",
        "   real_part_of_s = s.real%p\n",
        "   imag_part_of_s = s.imag%p\n",
        "   result = real_part_of_s + imag_part_of_s*j\n",
        "   print(result)\n",
        "\n",
        "A(151*j + 140)"
      ]
    }
  ]
}