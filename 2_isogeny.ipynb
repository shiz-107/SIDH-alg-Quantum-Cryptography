{
  "nbformat": 4,
  "nbformat_minor": 0,
  "metadata": {
    "colab": {
      "provenance": [],
      "authorship_tag": "ABX9TyPAgCjgSlFEPX3XB1JE1OSD",
      "include_colab_link": true
    },
    "kernelspec": {
      "name": "python3",
      "display_name": "Python 3"
    },
    "language_info": {
      "name": "python"
    }
  },
  "cells": [
    {
      "cell_type": "markdown",
      "metadata": {
        "id": "view-in-github",
        "colab_type": "text"
      },
      "source": [
        "<a href=\"https://colab.research.google.com/github/shiz-107/SIDH-alg-Quantum-Cryptography/blob/main/2_isogeny.ipynb\" target=\"_parent\"><img src=\"https://colab.research.google.com/assets/colab-badge.svg\" alt=\"Open In Colab\"/></a>"
      ]
    },
    {
      "cell_type": "code",
      "execution_count": null,
      "metadata": {
        "id": "YLujB8FUguP8",
        "colab": {
          "base_uri": "https://localhost:8080/"
        },
        "outputId": "6e34be6b-2af5-4b7a-f646-53618dc3de9e"
      },
      "outputs": [
        {
          "output_type": "stream",
          "name": "stdout",
          "text": [
            "result is = (231+23j)\n"
          ]
        }
      ],
      "source": [
        "j = complex(0, 1)\n",
        "p = 431\n",
        "a = 208*j + 161\n",
        "\n",
        "# E_a : y**2 = x**3 + (208i + 161)x**2 + x,\n",
        "# E_a' : y**2 = x**3 + (102i + 423)x**2 + x,\n",
        "inverse = 375\n",
        "c = 350*1j + 68\n",
        "def A(x):\n",
        "     m = x*(c*x - 1)\n",
        "     real_part_of_m = (m.real) % p\n",
        "     imag_part_of_m = (m.imag) % p\n",
        "     m_prime = real_part_of_m + (imag_part_of_m)*j\n",
        "\n",
        "     n = x - c\n",
        "     real_part_of_n = (n.real) % p\n",
        "     imag_part_of_n = (n.imag) % p\n",
        "     n_prime =  real_part_of_n + (imag_part_of_n)*j\n",
        "\n",
        "     modulus_of_n_prime = ((real_part_of_n)**2 + (imag_part_of_n)**2) % p\n",
        "\n",
        "\n",
        "\n",
        "     n_double_prime =  real_part_of_n + (p-imag_part_of_n)*j\n",
        "     n_triple_prime = n_double_prime*inverse\n",
        "     real_part_of_n_triple_prime = n_triple_prime.real%p\n",
        "     imag_part_of_n_triple_prime = n_triple_prime.imag%p\n",
        "     n_forth_prime = real_part_of_n_triple_prime + imag_part_of_n_triple_prime*j\n",
        "\n",
        "     s = m_prime * n_forth_prime\n",
        "     real_part_of_s = s.real % p\n",
        "     imag_part_of_s = s.imag % p\n",
        "     result = real_part_of_s + imag_part_of_s * 1j\n",
        "\n",
        "     print(\"result is =\", result)\n",
        "\n",
        "A(390*j + 23)"
      ]
    },
    {
      "cell_type": "code",
      "source": [
        "# inverse of modulus of n-c % p\n",
        "def find_inverse(element, mod):\n",
        "    \"\"\"\n",
        "    Finds the inverse of an element in the finite field Z_mod.\n",
        "    Returns the inverse if it exists, otherwise returns None.\n",
        "    \"\"\"\n",
        "    if element == 0:\n",
        "        return None\n",
        "\n",
        "    # Apply the extended Euclidean algorithm\n",
        "    a, b = mod, element\n",
        "    x, y = 0, 1\n",
        "    while b != 0:\n",
        "        quotient = a // b\n",
        "        a, b = b, a - quotient * b\n",
        "        x, y = y, x - quotient * y\n",
        "\n",
        "    # Ensure the inverse is positive\n",
        "    inverse = x % mod\n",
        "    if inverse < 0:\n",
        "        inverse += mod\n",
        "\n",
        "    return inverse\n",
        "\n",
        "# Test the function\n",
        "element = 177\n",
        "mod = 431\n",
        "inverse = find_inverse(element, mod)\n",
        "print(\"Inverse of\", element, \"in Z_\", mod, \":\", inverse)"
      ],
      "metadata": {
        "id": "1KM-u-nng9JE"
      },
      "execution_count": null,
      "outputs": []
    },
    {
      "cell_type": "code",
      "source": [
        "j = complex(0, 1)\n",
        "p = 431\n",
        "c = 293+115j\n",
        "\n",
        "# E_a : y**2 = x**3 + (208i + 161)x**2 + x,\n",
        "# E_a' : y**2 = x**3 + (102i + 423)x**2 + x,\n",
        "\n",
        "def A(x):\n",
        "     m = x*(c*x - 1)\n",
        "     real_part_of_m = (m.real) % p\n",
        "     imag_part_of_m = (m.imag) % p\n",
        "     m_prime = real_part_of_m + (imag_part_of_m)*j\n",
        "\n",
        "     n = x - c\n",
        "     real_part_of_n = (n.real) % p\n",
        "     imag_part_of_n = (n.imag) % p\n",
        "     n_prime =  real_part_of_n + (imag_part_of_n)*j\n",
        "\n",
        "     modulus_of_n_prime = ((real_part_of_n)**2 + (imag_part_of_n)**2) % p\n",
        "\n",
        "\n",
        "\n",
        "     def find_inverse(element, mod):\n",
        "\n",
        "        if element == 0:\n",
        "          return None\n",
        "\n",
        "        # Apply the extended Euclidean algorithm\n",
        "        a, b = mod, element\n",
        "        x, y = 0, 1\n",
        "        while b != 0:\n",
        "            quotient = a // b\n",
        "            a, b = b, a - quotient * b\n",
        "            x, y = y, x - quotient * y\n",
        "\n",
        "        # Ensure the inverse is positive\n",
        "        inverse = x % mod\n",
        "        if inverse < 0:\n",
        "          inverse += mod\n",
        "\n",
        "        return inverse\n",
        "\n",
        "   # Test the function\n",
        "     element =  modulus_of_n_prime\n",
        "     mod = p\n",
        "     inverse = find_inverse(element, mod)\n",
        "\n",
        "     n_double_prime =  real_part_of_n + (p-imag_part_of_n)*j\n",
        "     n_triple_prime = n_double_prime*inverse\n",
        "     real_part_of_n_triple_prime = n_triple_prime.real%p\n",
        "     imag_part_of_n_triple_prime = n_triple_prime.imag%p\n",
        "     n_forth_prime = real_part_of_n_triple_prime + imag_part_of_n_triple_prime*j\n",
        "\n",
        "     s = m_prime * n_forth_prime\n",
        "     real_part_of_s = s.real % p\n",
        "     imag_part_of_s = s.imag % p\n",
        "     result = real_part_of_s + imag_part_of_s * 1j\n",
        "\n",
        "     print(\"result is =\", result)\n",
        "\n",
        "A(408+408j)"
      ],
      "metadata": {
        "colab": {
          "base_uri": "https://localhost:8080/"
        },
        "id": "c0qQh8oVDYp1",
        "outputId": "e2d294c5-2a6b-46fa-9366-468c45c4934a"
      },
      "execution_count": null,
      "outputs": [
        {
          "output_type": "stream",
          "name": "stdout",
          "text": [
            "result is = 196j\n"
          ]
        }
      ]
    }
  ]
}